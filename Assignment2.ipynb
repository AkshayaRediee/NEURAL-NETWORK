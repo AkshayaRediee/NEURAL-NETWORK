{
  "nbformat": 4,
  "nbformat_minor": 0,
  "metadata": {
    "colab": {
      "provenance": [],
      "mount_file_id": "1zKdLD1eA5UXlc7U9Ju_vmDI1fytb0PrM",
      "authorship_tag": "ABX9TyO98Yzi6u+Vi4eBCAygxQUy",
      "include_colab_link": true
    },
    "kernelspec": {
      "name": "python3",
      "display_name": "Python 3"
    },
    "language_info": {
      "name": "python"
    }
  },
  "cells": [
    {
      "cell_type": "markdown",
      "metadata": {
        "id": "view-in-github",
        "colab_type": "text"
      },
      "source": [
        "<a href=\"https://colab.research.google.com/github/AkshayaRediee/NEURAL-NETWORK/blob/main/Assignment2.ipynb\" target=\"_parent\"><img src=\"https://colab.research.google.com/assets/colab-badge.svg\" alt=\"Open In Colab\"/></a>"
      ]
    },
    {
      "cell_type": "code",
      "execution_count": null,
      "metadata": {
        "colab": {
          "base_uri": "https://localhost:8080/"
        },
        "id": "5F1MdZYrpoo6",
        "outputId": "9d454e28-b16b-424e-b3e9-3474a710e838"
      },
      "outputs": [
        {
          "output_type": "stream",
          "name": "stdout",
          "text": [
            "Enter your first name: Akshaya\n",
            "Enter your last name: Chinthareddy\n",
            "Your Full name is AkshayaChinthareddy\n"
          ]
        }
      ],
      "source": [
        "def fullname(firstname, lastname):\n",
        "  return firstname + lastname\n",
        "\n",
        "firstname=input(\"Enter your first name: \")\n",
        "lastname=input(\"Enter your last name: \")\n",
        "fullname=fullname(firstname,lastname)\n",
        "print(\"Your Full name is \"+ fullname)"
      ]
    },
    {
      "cell_type": "code",
      "source": [
        "def string_alternative(fullname):\n",
        "  return fullname[::2]\n",
        "\n",
        "fullname=input(\"Enter the fullname: \")\n",
        "print(string_alternative(fullname))\n",
        "\n"
      ],
      "metadata": {
        "colab": {
          "base_uri": "https://localhost:8080/"
        },
        "id": "L5Hsux8lqF_M",
        "outputId": "17d2c8c5-1aff-420c-bed2-382114ce0a19"
      },
      "execution_count": null,
      "outputs": [
        {
          "output_type": "stream",
          "name": "stdout",
          "text": [
            "Enter the fullname: Akshaya Chinthareddy\n",
            "AsaaCitaed\n"
          ]
        }
      ]
    },
    {
      "cell_type": "code",
      "source": [
        "from collections import Counter\n",
        "with open('/content/drive/My Drive/input.txt', 'r') as input_file:\n",
        "    lines = input_file.readlines()\n",
        "\n",
        "output_lines = []\n",
        "list_of_words = []\n",
        "\n",
        "for line in lines:\n",
        "    line = line.strip()\n",
        "\n",
        "    list_of_words.extend(line.split(\" \"))\n",
        "\n",
        "\n",
        "element_count = Counter(list_of_words)\n",
        "\n",
        "for element, count in element_count.items():\n",
        "  output_lines.append(f\"{element} - Count: {count}\")\n",
        "\n",
        "with open('/content/drive/My Drive/output.txt', 'w') as output_file:\n",
        "    output_file.write(\"Python Course\" + '\\n')\n",
        "    output_file.write(\"Deep Learning Course\" + '\\n')\n",
        "    output_file.write(\"Word_Count:\" + '\\n')\n",
        "    for line in output_lines:\n",
        "        output_file.write(line + '\\n')\n",
        "\n",
        "print(\"Output written to output.txt\")\n"
      ],
      "metadata": {
        "colab": {
          "base_uri": "https://localhost:8080/"
        },
        "id": "JCI7ETkDvBHU",
        "outputId": "02b0a525-8784-421d-df56-3c25e6eeb0a6"
      },
      "execution_count": 8,
      "outputs": [
        {
          "output_type": "stream",
          "name": "stdout",
          "text": [
            "Output written to output.txt\n"
          ]
        }
      ]
    },
    {
      "cell_type": "code",
      "source": [
        "height_inch=[]\n",
        "height_cm=[]\n",
        "\n",
        "\n",
        "num_customers = int(input(\"Enter the number of customers: \"))\n",
        "heights_inches = [float(input(f\"Enter the height in inches of the customer {i + 1}: \")) for i in range(num_customers)]\n",
        "heights_cm = [inches * 2.54 for inches in heights_inches]\n",
        "for i in range(num_customers):\n",
        "    print(f\"Customer {i + 1}: {heights_inches[i]} inches = {heights_cm[i]} cm\")"
      ],
      "metadata": {
        "colab": {
          "base_uri": "https://localhost:8080/"
        },
        "id": "q22UP508vEM1",
        "outputId": "c7e0ba1e-988c-48eb-8cdd-7053ce1df092"
      },
      "execution_count": 9,
      "outputs": [
        {
          "output_type": "stream",
          "name": "stdout",
          "text": [
            "Enter the number of customers: 4\n",
            "Enter the height in inches of the customer 1: 35\n",
            "Enter the height in inches of the customer 2: 45\n",
            "Enter the height in inches of the customer 3: 40\n",
            "Enter the height in inches of the customer 4: 35\n",
            "Customer 1: 35.0 inches = 88.9 cm\n",
            "Customer 2: 45.0 inches = 114.3 cm\n",
            "Customer 3: 40.0 inches = 101.6 cm\n",
            "Customer 4: 35.0 inches = 88.9 cm\n"
          ]
        }
      ]
    },
    {
      "cell_type": "code",
      "source": [
        "height_inches=[]\n",
        "height_cm=[]\n",
        "\n",
        "height_inches=[10,20,30,40,50]\n",
        "height_cm=[inch*2.54 for inch in height_inches]\n",
        "print(height_cm)"
      ],
      "metadata": {
        "colab": {
          "base_uri": "https://localhost:8080/"
        },
        "id": "fG40ilJivil3",
        "outputId": "da69cb1c-49c6-4c02-f18b-5764ae81efee"
      },
      "execution_count": 10,
      "outputs": [
        {
          "output_type": "stream",
          "name": "stdout",
          "text": [
            "[25.4, 50.8, 76.2, 101.6, 127.0]\n"
          ]
        }
      ]
    }
  ]
}