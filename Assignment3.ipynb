{
  "nbformat": 4,
  "nbformat_minor": 0,
  "metadata": {
    "colab": {
      "provenance": [],
      "authorship_tag": "ABX9TyO9qYAJyRlTPjTjQiR/saAa",
      "include_colab_link": true
    },
    "kernelspec": {
      "name": "python3",
      "display_name": "Python 3"
    },
    "language_info": {
      "name": "python"
    }
  },
  "cells": [
    {
      "cell_type": "markdown",
      "metadata": {
        "id": "view-in-github",
        "colab_type": "text"
      },
      "source": [
        "<a href=\"https://colab.research.google.com/github/AkshayaRediee/NEURAL-NETWORK/blob/main/Assignment3.ipynb\" target=\"_parent\"><img src=\"https://colab.research.google.com/assets/colab-badge.svg\" alt=\"Open In Colab\"/></a>"
      ]
    },
    {
      "cell_type": "code",
      "execution_count": 1,
      "metadata": {
        "colab": {
          "base_uri": "https://localhost:8080/"
        },
        "id": "RdqWDxU0JQMH",
        "outputId": "0d36e816-be76-4ff6-c917-ddd8c3b450a6"
      },
      "outputs": [
        {
          "output_type": "stream",
          "name": "stdout",
          "text": [
            "Total number of employees: 6\n",
            "Average salary: 92500.0\n"
          ]
        }
      ],
      "source": [
        "class Employee:\n",
        "    num_employees = 0\n",
        "\n",
        "    def __init__(self, name, family, salary, department):\n",
        "        self.name = name\n",
        "        self.family = family\n",
        "        self.salary = salary\n",
        "        self.department = department\n",
        "        Employee.num_employees += 1\n",
        "\n",
        "    @classmethod\n",
        "    def average_salary(cls, employees):\n",
        "        total_salary = sum(emp.salary for emp in employees)\n",
        "        return total_salary / len(employees)\n",
        "\n",
        "class FulltimeEmployee(Employee):\n",
        "    def __init__(self, name, family, salary, department, benefits):\n",
        "        super().__init__(name, family, salary, department)\n",
        "        self.benefits = benefits\n",
        "\n",
        "\n",
        "employee1 = Employee(\"Chandra\", \"Family 1\", 65000, \"manager\")\n",
        "employee2 = Employee(\"Raghu\", \"Family 2\", 70000, \"IT\")\n",
        "employee3 = Employee(\"Nandhu\",\"Family3\",120000, \"Team lead\")\n",
        "employee4 = Employee(\"Deepu\",\"Family 4\", 120000, \"Team lead\")\n",
        "\n",
        "\n",
        "fulltime_employee1 = FulltimeEmployee(\"Krishna\", \"Family 5\", 90000, \"hospital\", \"Healthcare\")\n",
        "fulltime_employee2 = FulltimeEmployee(\"Balram\", \"Family 6\", 90000, \"Finance\", \"manager\")\n",
        "\n",
        "employees = [employee1, employee2, employee3, employee4, fulltime_employee1, fulltime_employee2]\n",
        "avg_salary = Employee.average_salary(employees)\n",
        "\n",
        "print(f\"Total number of employees: {Employee.num_employees}\")\n",
        "print(f\"Average salary: {avg_salary}\")"
      ]
    },
    {
      "cell_type": "code",
      "source": [
        "import numpy as np\n",
        "\n",
        "random_vector = np.random.uniform(1, 20, size=20)\n",
        "reshaped_array = random_vector.reshape(4, 5)\n",
        "max_indices = np.argmax(reshaped_array, axis=1)\n",
        "col_indices = np.arange(5)\n",
        "reshaped_array[np.arange(4)[:, np.newaxis], max_indices] = 0\n",
        "print(reshaped_array)"
      ],
      "metadata": {
        "colab": {
          "base_uri": "https://localhost:8080/"
        },
        "id": "x6I_PKROJmpi",
        "outputId": "6245c54c-3ec1-412b-acef-8727d7735ddd"
      },
      "execution_count": 2,
      "outputs": [
        {
          "output_type": "stream",
          "name": "stdout",
          "text": [
            "[[ 9.02255655  3.23813114  0.          0.          5.7182294 ]\n",
            " [13.10867024  5.65847677  0.          0.         10.53106013]\n",
            " [ 5.14480028 12.73548145  0.          0.          6.7193862 ]\n",
            " [ 5.29862804 11.06154585  0.          0.         13.14604291]]\n"
          ]
        }
      ]
    }
  ]
}