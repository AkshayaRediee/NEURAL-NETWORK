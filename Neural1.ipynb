{
  "nbformat": 4,
  "nbformat_minor": 0,
  "metadata": {
    "colab": {
      "provenance": [],
      "authorship_tag": "ABX9TyPQwFL4efW3J3xtTlqaBpK0",
      "include_colab_link": true
    },
    "kernelspec": {
      "name": "python3",
      "display_name": "Python 3"
    },
    "language_info": {
      "name": "python"
    }
  },
  "cells": [
    {
      "cell_type": "markdown",
      "metadata": {
        "id": "view-in-github",
        "colab_type": "text"
      },
      "source": [
        "<a href=\"https://colab.research.google.com/github/AkshayaRediee/NEURAL-NETWORK/blob/main/Neural1.ipynb\" target=\"_parent\"><img src=\"https://colab.research.google.com/assets/colab-badge.svg\" alt=\"Open In Colab\"/></a>"
      ]
    },
    {
      "cell_type": "code",
      "execution_count": 14,
      "metadata": {
        "colab": {
          "base_uri": "https://localhost:8080/"
        },
        "id": "0d4i6vtMB-tB",
        "outputId": "4280cff5-9de4-4fc4-c3dd-123a809992da"
      },
      "outputs": [
        {
          "output_type": "stream",
          "name": "stdout",
          "text": [
            "Enter a string: python\n",
            "Reversed and modified string: htyp\n"
          ]
        }
      ],
      "source": [
        "string = input(\"Enter a string: \")\n",
        "Input = list(string)\n",
        "if len(Input)>=2:\n",
        " del Input[4:]\n",
        "Input.reverse()\n",
        "new_string = ''.join(Input)\n",
        "print(\"Reversed and modified string:\", new_string)"
      ]
    },
    {
      "cell_type": "code",
      "source": [
        "a = int(input(\"enter a number :\"))\n",
        "b = int(input(\"enter a number:\"))\n",
        "w = a+b\n",
        "print(w)\n",
        "x=a-b\n",
        "print(x)\n",
        "y=a*b\n",
        "print(y)\n",
        "z=a/b\n",
        "print(z)\n"
      ],
      "metadata": {
        "id": "G8wvyaahG4pf",
        "colab": {
          "base_uri": "https://localhost:8080/"
        },
        "outputId": "ec554895-3dd9-4f22-80c4-a7e8210922df"
      },
      "execution_count": 15,
      "outputs": [
        {
          "output_type": "stream",
          "name": "stdout",
          "text": [
            "enter a number :6\n",
            "enter a number:3\n",
            "9\n",
            "3\n",
            "18\n",
            "2.0\n"
          ]
        }
      ]
    },
    {
      "cell_type": "code",
      "source": [
        "from ctypes import pythonapi\n",
        "x = input(\"enter a sentence:\")\n",
        "a='python'\n",
        "b= 'pythons'\n",
        "y =x.replace(a,b)\n",
        "print(n)\n",
        "\n"
      ],
      "metadata": {
        "id": "3WkBOXmcCbHt",
        "colab": {
          "base_uri": "https://localhost:8080/"
        },
        "outputId": "4f207803-127e-42b3-b124-c85205ac13df"
      },
      "execution_count": 16,
      "outputs": [
        {
          "output_type": "stream",
          "name": "stdout",
          "text": [
            "enter a sentence:i love python\n",
            "I love pythons\n"
          ]
        }
      ]
    },
    {
      "cell_type": "code",
      "source": [
        "marks=int(input(\"enter obtained marks:\"))\n",
        "if marks>=90:\n",
        "   print(\"A grade\")\n",
        "elif marks>=80:\n",
        "    print(\" B grade\")\n",
        "elif marks>=70:\n",
        "    print(\"C  grade\")\n",
        "elif marks<=30:\n",
        "    print(\"F grade\")\n"
      ],
      "metadata": {
        "id": "kowql7jICjjg",
        "colab": {
          "base_uri": "https://localhost:8080/"
        },
        "outputId": "e19ceb69-923a-4be5-e38c-c39d443df157"
      },
      "execution_count": 17,
      "outputs": [
        {
          "output_type": "stream",
          "name": "stdout",
          "text": [
            "enter obtained marks:95\n",
            "A grade\n"
          ]
        }
      ]
    }
  ]
}